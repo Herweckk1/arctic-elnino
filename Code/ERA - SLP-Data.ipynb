{
 "cells": [
  {
   "cell_type": "code",
   "execution_count": null,
   "id": "advised-remains",
   "metadata": {},
   "outputs": [],
   "source": [
    "## This notebook is used to average the monthly ERA5 sea level pressure data to get yearly data\n",
    "## Created by Kendra Herweck"
   ]
  },
  {
   "cell_type": "code",
   "execution_count": 1,
   "id": "experimental-leader",
   "metadata": {},
   "outputs": [],
   "source": [
    "import netCDF4 as nc\n",
    "import numpy as np\n",
    "import datetime as dt  # Python standard library datetime  module\n",
    "from netCDF4 import Dataset  # http://code.google.com/p/netcdf4-python/\n",
    "import matplotlib.pyplot as plt\n",
    "import matplotlib.dates as mdates\n",
    "from astropy.table import Table\n",
    "from astropy.io import ascii\n",
    "from pandas import read_csv\n",
    "from matplotlib.dates import DateFormatter\n",
    "from pandas import DataFrame\n",
    "from pandas import Grouper\n",
    "import matplotlib.dates as mdates\n",
    "import cartopy.crs as ccrs\n",
    "import xarray as xr\n",
    "from glob import glob"
   ]
  },
  {
   "cell_type": "markdown",
   "id": "historic-crest",
   "metadata": {},
   "source": [
    "## Avg monthly to get yearly"
   ]
  },
  {
   "cell_type": "code",
   "execution_count": 2,
   "id": "shared-arrest",
   "metadata": {},
   "outputs": [],
   "source": [
    "filename1 = 'Data/Sea-Level-Pressure/ERA/adaptor.mars.internal-1625493258.5067286-27348-1-dbbf1d20-ef07-436a-b22b-470dabd4871b_1950-1978.nc'\n",
    "ds1 = xr.open_dataset(filename1)\n",
    "filename2 = 'Data/Sea-Level-Pressure/ERA/adaptor.mars.internal-1625493210.7690952-661-4-9904a93a-aa6b-4c23-a1b0-bda46b065056_1979-2020.nc'\n",
    "ds2 = xr.open_dataset(filename2)\n",
    "ds = xr.merge([ds1,ds2])"
   ]
  },
  {
   "cell_type": "code",
   "execution_count": 7,
   "id": "according-assurance",
   "metadata": {},
   "outputs": [
    {
     "name": "stdout",
     "output_type": "stream",
     "text": [
      "<xarray.DataArray 'msl' (time: 286, latitude: 321, longitude: 1440)>\n",
      "array([[[101456.41 , 101456.41 , 101456.41 , ..., 101456.41 ,\n",
      "         101456.41 , 101456.41 ],\n",
      "        [101473.64 , 101473.64 , 101473.64 , ..., 101473.87 ,\n",
      "         101473.64 , 101473.64 ],\n",
      "        [101488.09 , 101488.09 , 101488.09 , ..., 101488.2  ,\n",
      "         101488.2  , 101488.2  ],\n",
      "        ...,\n",
      "        [100968.35 , 100966.91 , 100966.79 , ..., 100969.57 ,\n",
      "         100968.91 , 100968.79 ],\n",
      "        [100959.68 , 100959.45 , 100959.01 , ..., 100960.68 ,\n",
      "         100960.56 , 100960.234],\n",
      "        [100952.23 , 100952.336, 100951.89 , ..., 100952.12 ,\n",
      "         100952.336, 100952.23 ]],\n",
      "\n",
      "       [[101209.266, 101209.266, 101209.266, ..., 101209.266,\n",
      "         101209.266, 101209.266],\n",
      "        [101225.945, 101225.945, 101226.055, ..., 101225.72 ,\n",
      "         101225.83 , 101225.83 ],\n",
      "        [101244.29 , 101244.4  , 101244.51 , ..., 101244.06 ,\n",
      "         101244.06 , 101244.17 ],\n",
      "...\n",
      "        [101038.42 , 101038.99 , 101040.36 , ..., 101034.99 ,\n",
      "         101035.91 , 101037.164],\n",
      "        [101025.055, 101026.2  , 101027.23 , ..., 101022.2  ,\n",
      "         101023.34 , 101024.03 ],\n",
      "        [101012.73 , 101013.98 , 101014.55 , ..., 101009.414,\n",
      "         101010.664, 101011.47 ]],\n",
      "\n",
      "       [[102369.9  , 102369.9  , 102369.9  , ..., 102369.9  ,\n",
      "         102369.9  , 102369.9  ],\n",
      "        [102400.164, 102400.164, 102400.05 , ..., 102400.28 ,\n",
      "         102400.28 , 102400.164],\n",
      "        [102430.77 , 102430.66 , 102430.66 , ..., 102431.12 ,\n",
      "         102431.   , 102430.89 ],\n",
      "        ...,\n",
      "        [101074.85 , 101075.086, 101076.45 , ..., 101072.69 ,\n",
      "         101073.02 , 101073.71 ],\n",
      "        [101062.18 , 101063.09 , 101064.12 , ..., 101060.35 ,\n",
      "         101060.92 , 101061.266],\n",
      "        [101050.52 , 101051.67 , 101052.125, ..., 101048.93 ,\n",
      "         101049.5  , 101049.73 ]]], dtype=float32)\n",
      "Coordinates:\n",
      "  * time       (time) datetime64[ns] 1950-01-01 1950-02-01 ... 2021-02-01\n",
      "  * longitude  (longitude) float32 -180.0 -179.8 -179.5 ... 179.2 179.5 179.8\n",
      "  * latitude   (latitude) float32 90.0 89.75 89.5 89.25 ... 10.5 10.25 10.0\n",
      "Attributes:\n",
      "    units:          Pa\n",
      "    long_name:      Mean sea level pressure\n",
      "    standard_name:  air_pressure_at_mean_sea_level\n"
     ]
    }
   ],
   "source": [
    "print(ds['msl'])"
   ]
  },
  {
   "cell_type": "code",
   "execution_count": 8,
   "id": "quick-laser",
   "metadata": {},
   "outputs": [
    {
     "name": "stdout",
     "output_type": "stream",
     "text": [
      "<xarray.Dataset>\n",
      "Dimensions:    (latitude: 321, longitude: 1440, year: 72)\n",
      "Coordinates:\n",
      "  * longitude  (longitude) float32 -180.0 -179.8 -179.5 ... 179.2 179.5 179.8\n",
      "  * latitude   (latitude) float32 90.0 89.75 89.5 89.25 ... 10.5 10.25 10.0\n",
      "  * year       (year) int64 1950 1951 1952 1953 1954 ... 2018 2019 2020 2021\n",
      "Data variables:\n",
      "    msl        (year, latitude, longitude) float32 1.017e+05 ... 1.01e+05\n"
     ]
    }
   ],
   "source": [
    "ds_test = ds.groupby('time.year').mean('time',skipna=True)\n",
    "print(ds_test)"
   ]
  },
  {
   "cell_type": "code",
   "execution_count": 12,
   "id": "stylish-institution",
   "metadata": {},
   "outputs": [
    {
     "name": "stdout",
     "output_type": "stream",
     "text": [
      "Data/Sea-Level-Pressure/ERA/Yearly/ERA-SLP-1950.nc\n",
      "Data/Sea-Level-Pressure/ERA/Yearly/ERA-SLP-1951.nc\n",
      "Data/Sea-Level-Pressure/ERA/Yearly/ERA-SLP-1952.nc\n",
      "Data/Sea-Level-Pressure/ERA/Yearly/ERA-SLP-1953.nc\n",
      "Data/Sea-Level-Pressure/ERA/Yearly/ERA-SLP-1954.nc\n",
      "Data/Sea-Level-Pressure/ERA/Yearly/ERA-SLP-1955.nc\n",
      "Data/Sea-Level-Pressure/ERA/Yearly/ERA-SLP-1956.nc\n",
      "Data/Sea-Level-Pressure/ERA/Yearly/ERA-SLP-1957.nc\n",
      "Data/Sea-Level-Pressure/ERA/Yearly/ERA-SLP-1958.nc\n",
      "Data/Sea-Level-Pressure/ERA/Yearly/ERA-SLP-1959.nc\n",
      "Data/Sea-Level-Pressure/ERA/Yearly/ERA-SLP-1960.nc\n",
      "Data/Sea-Level-Pressure/ERA/Yearly/ERA-SLP-1961.nc\n",
      "Data/Sea-Level-Pressure/ERA/Yearly/ERA-SLP-1962.nc\n",
      "Data/Sea-Level-Pressure/ERA/Yearly/ERA-SLP-1963.nc\n",
      "Data/Sea-Level-Pressure/ERA/Yearly/ERA-SLP-1964.nc\n",
      "Data/Sea-Level-Pressure/ERA/Yearly/ERA-SLP-1965.nc\n",
      "Data/Sea-Level-Pressure/ERA/Yearly/ERA-SLP-1966.nc\n",
      "Data/Sea-Level-Pressure/ERA/Yearly/ERA-SLP-1967.nc\n",
      "Data/Sea-Level-Pressure/ERA/Yearly/ERA-SLP-1968.nc\n",
      "Data/Sea-Level-Pressure/ERA/Yearly/ERA-SLP-1969.nc\n",
      "Data/Sea-Level-Pressure/ERA/Yearly/ERA-SLP-1970.nc\n",
      "Data/Sea-Level-Pressure/ERA/Yearly/ERA-SLP-1971.nc\n",
      "Data/Sea-Level-Pressure/ERA/Yearly/ERA-SLP-1972.nc\n",
      "Data/Sea-Level-Pressure/ERA/Yearly/ERA-SLP-1973.nc\n",
      "Data/Sea-Level-Pressure/ERA/Yearly/ERA-SLP-1974.nc\n",
      "Data/Sea-Level-Pressure/ERA/Yearly/ERA-SLP-1975.nc\n",
      "Data/Sea-Level-Pressure/ERA/Yearly/ERA-SLP-1976.nc\n",
      "Data/Sea-Level-Pressure/ERA/Yearly/ERA-SLP-1977.nc\n",
      "Data/Sea-Level-Pressure/ERA/Yearly/ERA-SLP-1978.nc\n",
      "Data/Sea-Level-Pressure/ERA/Yearly/ERA-SLP-1979.nc\n",
      "Data/Sea-Level-Pressure/ERA/Yearly/ERA-SLP-1980.nc\n",
      "Data/Sea-Level-Pressure/ERA/Yearly/ERA-SLP-1981.nc\n",
      "Data/Sea-Level-Pressure/ERA/Yearly/ERA-SLP-1982.nc\n",
      "Data/Sea-Level-Pressure/ERA/Yearly/ERA-SLP-1983.nc\n",
      "Data/Sea-Level-Pressure/ERA/Yearly/ERA-SLP-1984.nc\n",
      "Data/Sea-Level-Pressure/ERA/Yearly/ERA-SLP-1985.nc\n",
      "Data/Sea-Level-Pressure/ERA/Yearly/ERA-SLP-1986.nc\n",
      "Data/Sea-Level-Pressure/ERA/Yearly/ERA-SLP-1987.nc\n",
      "Data/Sea-Level-Pressure/ERA/Yearly/ERA-SLP-1988.nc\n",
      "Data/Sea-Level-Pressure/ERA/Yearly/ERA-SLP-1989.nc\n",
      "Data/Sea-Level-Pressure/ERA/Yearly/ERA-SLP-1990.nc\n",
      "Data/Sea-Level-Pressure/ERA/Yearly/ERA-SLP-1991.nc\n",
      "Data/Sea-Level-Pressure/ERA/Yearly/ERA-SLP-1992.nc\n",
      "Data/Sea-Level-Pressure/ERA/Yearly/ERA-SLP-1993.nc\n",
      "Data/Sea-Level-Pressure/ERA/Yearly/ERA-SLP-1994.nc\n",
      "Data/Sea-Level-Pressure/ERA/Yearly/ERA-SLP-1995.nc\n",
      "Data/Sea-Level-Pressure/ERA/Yearly/ERA-SLP-1996.nc\n",
      "Data/Sea-Level-Pressure/ERA/Yearly/ERA-SLP-1997.nc\n",
      "Data/Sea-Level-Pressure/ERA/Yearly/ERA-SLP-1998.nc\n",
      "Data/Sea-Level-Pressure/ERA/Yearly/ERA-SLP-1999.nc\n",
      "Data/Sea-Level-Pressure/ERA/Yearly/ERA-SLP-2000.nc\n",
      "Data/Sea-Level-Pressure/ERA/Yearly/ERA-SLP-2001.nc\n",
      "Data/Sea-Level-Pressure/ERA/Yearly/ERA-SLP-2002.nc\n",
      "Data/Sea-Level-Pressure/ERA/Yearly/ERA-SLP-2003.nc\n",
      "Data/Sea-Level-Pressure/ERA/Yearly/ERA-SLP-2004.nc\n",
      "Data/Sea-Level-Pressure/ERA/Yearly/ERA-SLP-2005.nc\n",
      "Data/Sea-Level-Pressure/ERA/Yearly/ERA-SLP-2006.nc\n",
      "Data/Sea-Level-Pressure/ERA/Yearly/ERA-SLP-2007.nc\n",
      "Data/Sea-Level-Pressure/ERA/Yearly/ERA-SLP-2008.nc\n",
      "Data/Sea-Level-Pressure/ERA/Yearly/ERA-SLP-2009.nc\n",
      "Data/Sea-Level-Pressure/ERA/Yearly/ERA-SLP-2010.nc\n",
      "Data/Sea-Level-Pressure/ERA/Yearly/ERA-SLP-2011.nc\n",
      "Data/Sea-Level-Pressure/ERA/Yearly/ERA-SLP-2012.nc\n",
      "Data/Sea-Level-Pressure/ERA/Yearly/ERA-SLP-2013.nc\n",
      "Data/Sea-Level-Pressure/ERA/Yearly/ERA-SLP-2014.nc\n",
      "Data/Sea-Level-Pressure/ERA/Yearly/ERA-SLP-2015.nc\n",
      "Data/Sea-Level-Pressure/ERA/Yearly/ERA-SLP-2016.nc\n",
      "Data/Sea-Level-Pressure/ERA/Yearly/ERA-SLP-2017.nc\n",
      "Data/Sea-Level-Pressure/ERA/Yearly/ERA-SLP-2018.nc\n",
      "Data/Sea-Level-Pressure/ERA/Yearly/ERA-SLP-2019.nc\n",
      "Data/Sea-Level-Pressure/ERA/Yearly/ERA-SLP-2020.nc\n",
      "Data/Sea-Level-Pressure/ERA/Yearly/ERA-SLP-2021.nc\n"
     ]
    }
   ],
   "source": [
    "for i in range(0,len(ds_test['year'])): ##len(ds_test['year'])\n",
    "    year = ds_test['year'][i].values\n",
    "    filename = 'Data/Sea-Level-Pressure/ERA/Yearly/ERA-SLP-{}.nc'.format(year)\n",
    "    print(filename)\n",
    "    f = nc.Dataset(filename, 'w')\n",
    "    f.createDimension('time', 1)\n",
    "    f.createDimension('y', len(ds_test['latitude']))\n",
    "    f.createDimension('x', len(ds_test['longitude']))\n",
    "    lats = f.createVariable('lat', float, ('y', ), zlib=True)\n",
    "    #print(lats.shape)\n",
    "    lons = f.createVariable('lon', float, ('x', ), zlib=True)\n",
    "    slp = f.createVariable('slp', float, ('y', 'x'), zlib=True, least_significant_digit=1, fill_value=0)\n",
    "    time = f.createVariable('time',float,('time'),zlib=True)\n",
    "    \n",
    "    lat_out  = np.array(ds_test.variables['latitude'])\n",
    "    lon_out  = ds_test.variables['longitude']\n",
    "\n",
    "    lats[:] = lat_out\n",
    "    lons[:] = lon_out\n",
    "    slp[:] = ds_test['msl'][i,:,:].values\n",
    "    time[:] = ds_test['year'][i].values\n",
    "\n",
    "    f.close()"
   ]
  },
  {
   "cell_type": "code",
   "execution_count": 10,
   "id": "unlikely-flashing",
   "metadata": {},
   "outputs": [],
   "source": [
    "f.close()"
   ]
  },
  {
   "cell_type": "code",
   "execution_count": null,
   "id": "baking-zambia",
   "metadata": {},
   "outputs": [],
   "source": []
  }
 ],
 "metadata": {
  "kernelspec": {
   "display_name": "Python 3",
   "language": "python",
   "name": "python3"
  },
  "language_info": {
   "codemirror_mode": {
    "name": "ipython",
    "version": 3
   },
   "file_extension": ".py",
   "mimetype": "text/x-python",
   "name": "python",
   "nbconvert_exporter": "python",
   "pygments_lexer": "ipython3",
   "version": "3.8.5"
  }
 },
 "nbformat": 4,
 "nbformat_minor": 5
}
